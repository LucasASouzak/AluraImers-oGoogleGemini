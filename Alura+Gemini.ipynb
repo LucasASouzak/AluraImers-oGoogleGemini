{
  "nbformat": 4,
  "nbformat_minor": 0,
  "metadata": {
    "colab": {
      "provenance": [],
      "authorship_tag": "ABX9TyOJWYXlS/4c46Ax3Bm7Pofc",
      "include_colab_link": true
    },
    "kernelspec": {
      "name": "python3",
      "display_name": "Python 3"
    },
    "language_info": {
      "name": "python"
    }
  },
  "cells": [
    {
      "cell_type": "markdown",
      "metadata": {
        "id": "view-in-github",
        "colab_type": "text"
      },
      "source": [
        "<a href=\"https://colab.research.google.com/github/LucasASouzak/AluraImersao-GoogleGemini/blob/main/Alura%2BGemini.ipynb\" target=\"_parent\"><img src=\"https://colab.research.google.com/assets/colab-badge.svg\" alt=\"Open In Colab\"/></a>"
      ]
    },
    {
      "cell_type": "markdown",
      "source": [
        "!pip install -U -q google-generativeai\n"
      ],
      "metadata": {
        "id": "z7V40Ftaig7R"
      }
    },
    {
      "cell_type": "code",
      "source": [
        "!pip install -q google-auth\n",
        "!pip install -U -q google-generativeai\n",
        "!pip install -q google-cloud-secret-manager\n",
        "\n",
        "# Importações e configurações iniciais"
      ],
      "metadata": {
        "id": "b2lu4TeamVVt"
      },
      "execution_count": null,
      "outputs": []
    },
    {
      "cell_type": "code",
      "source": [
        "!pip install -q google-api-python-client\n",
        "from googleapiclient.discovery import build\n",
        "\n",
        "service = build('sheets', 'v4')\n",
        "# Importa confirgurações iniciais do Sheets"
      ],
      "metadata": {
        "id": "98QE2PVomwZn"
      },
      "execution_count": null,
      "outputs": []
    },
    {
      "cell_type": "markdown",
      "source": [],
      "metadata": {
        "id": "0M1a6ufdm8fm"
      }
    },
    {
      "cell_type": "code",
      "source": [
        "import gspread\n",
        "import numpy as np\n",
        "import pandas as pd\n",
        "import google.generativeai as genai\n",
        "import json\n",
        "from google.colab import auth\n",
        "auth.authenticate_user()\n",
        "import os\n",
        "os.environ[\"GOOGLE_CLOUD_PROJECT\"] = \"SEU_PROJECT_ID\" # Substitua pelo ID do seu projeto"
      ],
      "metadata": {
        "id": "BHQ7GnvdiTUH"
      },
      "execution_count": null,
      "outputs": []
    },
    {
      "cell_type": "code",
      "source": [
        "from google.cloud import secretmanager\n",
        "from oauth2client.service_account import ServiceAccountCredentials"
      ],
      "metadata": {
        "id": "6YBoqnsE5I86"
      },
      "execution_count": null,
      "outputs": []
    },
    {
      "cell_type": "code",
      "source": [
        "GOOGLE_API_KEY = \"SUA_API_KEY\" # Substitua pela sua API Key do Gemini\n",
        "genai.configure(api_key=GOOGLE_API_KEY)\n",
        "projeto_id = \"SEU_PROJECT_ID\"\n",
        "nome_do_segredo = \"projeto_desaparecidos\" # Nome do segredo no Secret Manager"
      ],
      "metadata": {
        "id": "xtGB_33p2S0q"
      },
      "execution_count": null,
      "outputs": []
    },
    {
      "cell_type": "code",
      "source": [
        "cliente_secret = secretmanager.SecretManagerServiceClient()\n",
        "nome = f\"projects/{projeto_id}/secrets/{nome_do_segredo}/versions/latest\"\n",
        "resposta = cliente_secret.access_secret_version(name=nome)\n",
        "chave_json = resposta.payload.data.decode(\"UTF-8\")\n"
      ],
      "metadata": {
        "id": "e1UFYFYhxuEH"
      },
      "execution_count": null,
      "outputs": []
    },
    {
      "cell_type": "code",
      "source": [
        "def acessar_planilha():\n",
        "    escopo = ['https://spreadsheets.google.com/feeds', 'https://www.googleapis.com/auth/drive']\n",
        "    creds = ServiceAccountCredentials.from_json_keyfile_dict(json.loads(chave_json), escopo)\n",
        "    cliente = gspread.authorize(creds)\n",
        "    planilha = cliente.open_by_url('https://docs.google.com/spreadsheets/d/1pr1jjq3rU5-UOdh-p4niJ62OZeImQ0zqLGne7wQZBmM/edit')\n",
        "    return planilha.worksheet('Lista de Pessoas Desaparecidas')"
      ],
      "metadata": {
        "id": "tFcx2mgvx2Z-"
      },
      "execution_count": null,
      "outputs": []
    },
    {
      "cell_type": "code",
      "source": [
        "def adicionar_pessoa(nome, idade, genero, cidade, filiacao, rg, celular):\n",
        "    planilha = acessar_planilha()\n",
        "    nova_linha = [nome, idade, genero, cidade, filiacao, rg, celular]\n",
        "    planilha.append_row(nova_linha)"
      ],
      "metadata": {
        "id": "Q7Z4I4C1jINd"
      },
      "execution_count": null,
      "outputs": []
    },
    {
      "cell_type": "code",
      "source": [
        "def consultar_pessoa(nome, idade, genero, cidade, filiacao, rg):\n",
        "    planilha = acessar_planilha()\n",
        "    dados = planilha.get_all_records()\n",
        "    for pessoa in dados:\n",
        "        if (pessoa['Nome'] == nome and\n",
        "                pessoa['Idade'] == int(idade) and\n",
        "                pessoa['Genero'] == genero and\n",
        "                pessoa['Cidade'] == cidade and\n",
        "                pessoa['Filiação'] == filiacao and\n",
        "                pessoa['Rg'] == rg):\n",
        "            return pessoa  # Retorna a linha da planilha com os dados da pessoa\n",
        "    return None"
      ],
      "metadata": {
        "id": "IJAIQg9vjI38"
      },
      "execution_count": null,
      "outputs": []
    },
    {
      "cell_type": "code",
      "source": [
        "def coletar_informacoes():\n",
        "    print(\"Olá, sou o Gemini. Para te ajudar, preciso de algumas informações sobre a pessoa desaparecida.\")\n",
        "    nome = input(\"Digite o nome da pessoa: \")\n",
        "    idade = input(\"Digite a idade: \")\n",
        "    genero = input(\"Digite o gênero: \")\n",
        "    cidade = input(\"Digite a cidade: \")\n",
        "    filiacao = input(\"Digite a filiação: \")\n",
        "    rg = input(\"Digite o RG: \")\n",
        "    return nome, idade, genero, cidade, filiacao, rg\n"
      ],
      "metadata": {
        "id": "o9stfKD5jMad"
      },
      "execution_count": null,
      "outputs": []
    },
    {
      "cell_type": "code",
      "source": [
        "# Fluxo principal\n",
        "nome, idade, genero, cidade, filiacao, rg = coletar_informacoes()\n",
        "pessoa_encontrada = consultar_pessoa(nome, idade, genero, cidade, filiacao, rg)\n",
        "\n",
        "if pessoa_encontrada:\n",
        "    print(f\"Temos informações sobre {nome}.\")\n",
        "    print(f\"Ele(a) está no abrigo: {pessoa_encontrada['Abrigo']}\")\n",
        "    print(f\"Telefone do abrigo: {pessoa_encontrada['Telefone do Abrigo']}\")\n",
        "else:\n",
        "    generation_config = {\n",
        "      \"candidate_count\": 1,\n",
        "      \"temperature\": 0.5,\n",
        "    }\n",
        "    safety_settings={\n",
        "        'HATE': 'BLOCK_NONE',\n",
        "        'HARASSMENT': 'BLOCK_NONE',\n",
        "        'SEXUAL' : 'BLOCK_NONE',\n",
        "        'DANGEROUS' : 'BLOCK_NONE'\n",
        "    }\n",
        "    model = genai.GenerativeModel(\n",
        "        model_name='gemini-1.0-pro',\n",
        "        generation_config=generation_config,\n",
        "        safety_settings=safety_settings,\n",
        "    )\n",
        "    prompt= f\"Crie uma mensagem de conforto para alguém que está procurando por {nome}, {idade} anos, {genero}, de {cidade}.\"\n",
        "    response = model.generate_content(contents=[prompt])\n",
        "    print(response.candidates[0].content)\n",
        "    celular = input(\"Digite um número de celular para contato: \")\n",
        "    adicionar_pessoa(nome, idade, genero, cidade, filiacao, rg, celular)\n",
        "    print(f\"As informações foram adicionadas à planilha. Esperamos que {nome} seja encontrado(a) em breve.\")\n"
      ],
      "metadata": {
        "colab": {
          "base_uri": "https://localhost:8080/",
          "height": 280
        },
        "id": "U--AMRq6jRet",
        "outputId": "7ef0358a-265b-408a-e9ea-3285660c8cc4"
      },
      "execution_count": null,
      "outputs": [
        {
          "output_type": "stream",
          "name": "stdout",
          "text": [
            "Olá, sou o Gemini. Para te ajudar, preciso de algumas informações sobre a pessoa desaparecida.\n",
            "Digite o nome da pessoa: Lucas Antonio de Souza\n",
            "Digite a idade: 33\n",
            "Digite o gênero: Masculino\n",
            "Digite a cidade: São Paulo \n",
            "Digite a filiação: José Augusto\n",
            "Digite o RG: 447285695\n",
            "parts {\n",
            "  text: \"Querida pessoa que busca por Lucas Antonio de Souza,\\n\\nEntendo profundamente sua preocupa\\303\\247\\303\\243o e ang\\303\\272stia enquanto voc\\303\\252 procura por seu ente querido. Quero oferecer minhas sinceras condol\\303\\252ncias e apoio durante este momento dif\\303\\255cil.\\n\\nCompreendo que a incerteza e a falta de informa\\303\\247\\303\\265es podem ser assustadoras. Saiba que voc\\303\\252 n\\303\\243o est\\303\\241 sozinho e que h\\303\\241 pessoas que se preocupam com voc\\303\\252 e com o bem-estar de Lucas.\\n\\nRecomendo fortemente que voc\\303\\252 entre em contato com as autoridades locais e registre um boletim de ocorr\\303\\252ncia sobre o desaparecimento de Lucas. Forne\\303\\247a o m\\303\\241ximo de detalhes poss\\303\\255vel, incluindo sua descri\\303\\247\\303\\243o f\\303\\255sica, \\303\\272ltima localiza\\303\\247\\303\\243o conhecida e quaisquer informa\\303\\247\\303\\265es adicionais que possam ajudar na investiga\\303\\247\\303\\243o.\\n\\nAl\\303\\251m disso, considere entrar em contato com organiza\\303\\247\\303\\265es de busca e resgate, como o Corpo de Bombeiros ou a Defesa Civil. Eles podem fornecer recursos e assist\\303\\252ncia adicionais na busca.\\n\\nN\\303\\243o perca a esperan\\303\\247a. Continue a divulgar informa\\303\\247\\303\\265es sobre Lucas nas redes sociais, f\\303\\263runs e grupos comunit\\303\\241rios. Quanto mais pessoas souberem sobre seu desaparecimento, maior a probabilidade de encontr\\303\\241-lo.\\n\\nEntenda que encontrar algu\\303\\251m desaparecido pode levar tempo e esfor\\303\\247o. N\\303\\243o desanime se n\\303\\243o houver not\\303\\255cias imediatamente. Continue a procurar e a manter a f\\303\\251 de que Lucas ser\\303\\241 encontrado s\\303\\243o e salvo.\\n\\nSe precisar de apoio emocional ou orienta\\303\\247\\303\\243o pr\\303\\241tica, n\\303\\243o hesite em entrar em contato com amigos, familiares ou profissionais de sa\\303\\272de mental. Eles podem fornecer conforto e orienta\\303\\247\\303\\243o durante este momento desafiador.\\n\\nLembre-se de que voc\\303\\252 n\\303\\243o est\\303\\241 sozinho nesta jornada. H\\303\\241 pessoas que se preocupam com voc\\303\\252 e est\\303\\243o dispostas a ajudar. Continue procurando e nunca perca a esperan\\303\\247a.\\n\\nCom amor e apoio,\"\n",
            "}\n",
            "role: \"model\"\n",
            "\n",
            "Digite um número de celular para contato: 1111111111\n",
            "As informações foram adicionadas à planilha. Esperamos que Lucas Antonio de Souza seja encontrado(a) em breve.\n"
          ]
        }
      ]
    }
  ]
}